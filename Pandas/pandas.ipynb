{
 "cells": [
  {
   "cell_type": "markdown",
   "metadata": {},
   "source": [
    "# Pandas Tutuorial Day 11\n",
    "\n",
    "This Note Book explains how to install the Pandas library"
   ]
  },
  {
   "cell_type": "markdown",
   "metadata": {},
   "source": [
    "How to install Libraries"
   ]
  },
  {
   "cell_type": "code",
   "execution_count": null,
   "metadata": {},
   "outputs": [],
   "source": [
    "#pip install pandas"
   ]
  },
  {
   "cell_type": "markdown",
   "metadata": {},
   "source": [
    "- To Import Libraries"
   ]
  },
  {
   "cell_type": "code",
   "execution_count": 2,
   "metadata": {},
   "outputs": [],
   "source": [
    "import pandas as pd\n",
    "import numpy as np\n"
   ]
  },
  {
   "cell_type": "code",
   "execution_count": null,
   "metadata": {},
   "outputs": [],
   "source": [
    "# Object Creation\n",
    "n= pd.Series([1,2,3,np.NaN,4,5,6,7])\n",
    "n"
   ]
  },
  {
   "cell_type": "code",
   "execution_count": 4,
   "metadata": {},
   "outputs": [
    {
     "data": {
      "text/plain": [
       "DatetimeIndex(['2022-01-01', '2022-01-02', '2022-01-03', '2022-01-04',\n",
       "               '2022-01-05', '2022-01-06', '2022-01-07', '2022-01-08',\n",
       "               '2022-01-09', '2022-01-10', '2022-01-11', '2022-01-12'],\n",
       "              dtype='datetime64[ns]', freq='D')"
      ]
     },
     "execution_count": 4,
     "metadata": {},
     "output_type": "execute_result"
    }
   ],
   "source": [
    "# here date range is created\n",
    "dates= pd.date_range(\"20220101\", periods=12)\n",
    "dates "
   ]
  },
  {
   "cell_type": "code",
   "execution_count": 5,
   "metadata": {},
   "outputs": [
    {
     "data": {
      "text/html": [
       "<div>\n",
       "<style scoped>\n",
       "    .dataframe tbody tr th:only-of-type {\n",
       "        vertical-align: middle;\n",
       "    }\n",
       "\n",
       "    .dataframe tbody tr th {\n",
       "        vertical-align: top;\n",
       "    }\n",
       "\n",
       "    .dataframe thead th {\n",
       "        text-align: right;\n",
       "    }\n",
       "</style>\n",
       "<table border=\"1\" class=\"dataframe\">\n",
       "  <thead>\n",
       "    <tr style=\"text-align: right;\">\n",
       "      <th></th>\n",
       "      <th>A</th>\n",
       "      <th>B</th>\n",
       "      <th>C</th>\n",
       "      <th>D</th>\n",
       "    </tr>\n",
       "  </thead>\n",
       "  <tbody>\n",
       "    <tr>\n",
       "      <th>2022-01-01</th>\n",
       "      <td>0.328804</td>\n",
       "      <td>0.633337</td>\n",
       "      <td>0.853570</td>\n",
       "      <td>0.185706</td>\n",
       "    </tr>\n",
       "    <tr>\n",
       "      <th>2022-01-02</th>\n",
       "      <td>0.421210</td>\n",
       "      <td>0.848831</td>\n",
       "      <td>0.345675</td>\n",
       "      <td>0.208881</td>\n",
       "    </tr>\n",
       "    <tr>\n",
       "      <th>2022-01-03</th>\n",
       "      <td>0.315051</td>\n",
       "      <td>0.734205</td>\n",
       "      <td>0.298773</td>\n",
       "      <td>0.934904</td>\n",
       "    </tr>\n",
       "    <tr>\n",
       "      <th>2022-01-04</th>\n",
       "      <td>0.912109</td>\n",
       "      <td>0.703475</td>\n",
       "      <td>0.180420</td>\n",
       "      <td>0.738608</td>\n",
       "    </tr>\n",
       "    <tr>\n",
       "      <th>2022-01-05</th>\n",
       "      <td>0.392963</td>\n",
       "      <td>0.988777</td>\n",
       "      <td>0.879066</td>\n",
       "      <td>0.612972</td>\n",
       "    </tr>\n",
       "    <tr>\n",
       "      <th>2022-01-06</th>\n",
       "      <td>0.789282</td>\n",
       "      <td>0.814044</td>\n",
       "      <td>0.268760</td>\n",
       "      <td>0.287187</td>\n",
       "    </tr>\n",
       "    <tr>\n",
       "      <th>2022-01-07</th>\n",
       "      <td>0.972467</td>\n",
       "      <td>0.683605</td>\n",
       "      <td>0.267645</td>\n",
       "      <td>0.025971</td>\n",
       "    </tr>\n",
       "    <tr>\n",
       "      <th>2022-01-08</th>\n",
       "      <td>0.238314</td>\n",
       "      <td>0.123394</td>\n",
       "      <td>0.777436</td>\n",
       "      <td>0.058548</td>\n",
       "    </tr>\n",
       "    <tr>\n",
       "      <th>2022-01-09</th>\n",
       "      <td>0.356712</td>\n",
       "      <td>0.056347</td>\n",
       "      <td>0.717911</td>\n",
       "      <td>0.899513</td>\n",
       "    </tr>\n",
       "    <tr>\n",
       "      <th>2022-01-10</th>\n",
       "      <td>0.583836</td>\n",
       "      <td>0.382514</td>\n",
       "      <td>0.013235</td>\n",
       "      <td>0.894119</td>\n",
       "    </tr>\n",
       "    <tr>\n",
       "      <th>2022-01-11</th>\n",
       "      <td>0.267580</td>\n",
       "      <td>0.210319</td>\n",
       "      <td>0.797306</td>\n",
       "      <td>0.710625</td>\n",
       "    </tr>\n",
       "    <tr>\n",
       "      <th>2022-01-12</th>\n",
       "      <td>0.191495</td>\n",
       "      <td>0.216715</td>\n",
       "      <td>0.139056</td>\n",
       "      <td>0.560806</td>\n",
       "    </tr>\n",
       "  </tbody>\n",
       "</table>\n",
       "</div>"
      ],
      "text/plain": [
       "                   A         B         C         D\n",
       "2022-01-01  0.328804  0.633337  0.853570  0.185706\n",
       "2022-01-02  0.421210  0.848831  0.345675  0.208881\n",
       "2022-01-03  0.315051  0.734205  0.298773  0.934904\n",
       "2022-01-04  0.912109  0.703475  0.180420  0.738608\n",
       "2022-01-05  0.392963  0.988777  0.879066  0.612972\n",
       "2022-01-06  0.789282  0.814044  0.268760  0.287187\n",
       "2022-01-07  0.972467  0.683605  0.267645  0.025971\n",
       "2022-01-08  0.238314  0.123394  0.777436  0.058548\n",
       "2022-01-09  0.356712  0.056347  0.717911  0.899513\n",
       "2022-01-10  0.583836  0.382514  0.013235  0.894119\n",
       "2022-01-11  0.267580  0.210319  0.797306  0.710625\n",
       "2022-01-12  0.191495  0.216715  0.139056  0.560806"
      ]
     },
     "execution_count": 5,
     "metadata": {},
     "output_type": "execute_result"
    }
   ],
   "source": [
    "# to make the DataFrame of above date range\n",
    "df= pd.DataFrame(np.random.rand(12, 4), index=dates ,columns=list(\"ABCD\"))\n",
    "df"
   ]
  },
  {
   "cell_type": "code",
   "execution_count": null,
   "metadata": {},
   "outputs": [],
   "source": [
    "# to Check the data types \n",
    "df.dtypes"
   ]
  },
  {
   "cell_type": "code",
   "execution_count": null,
   "metadata": {},
   "outputs": [],
   "source": [
    "# to view the heading or tail of data Following command will be used\n",
    "df.head"
   ]
  },
  {
   "cell_type": "code",
   "execution_count": null,
   "metadata": {},
   "outputs": [],
   "source": [
    "df.head(5)"
   ]
  },
  {
   "cell_type": "code",
   "execution_count": null,
   "metadata": {},
   "outputs": [],
   "source": [
    "df.tail(2)"
   ]
  },
  {
   "cell_type": "code",
   "execution_count": null,
   "metadata": {},
   "outputs": [],
   "source": [
    "# to convert the our Data from Pandas(statistical) to Numpy(array)\n",
    "df.to_numpy()"
   ]
  },
  {
   "cell_type": "code",
   "execution_count": null,
   "metadata": {},
   "outputs": [],
   "source": [
    "# to describe the Data means finding mean median ect\n",
    "df.describe()"
   ]
  },
  {
   "cell_type": "code",
   "execution_count": null,
   "metadata": {},
   "outputs": [],
   "source": [
    "# to transpose the data(which is in array form)\n",
    "df.T"
   ]
  },
  {
   "cell_type": "code",
   "execution_count": null,
   "metadata": {},
   "outputs": [],
   "source": [
    "# we can  sort the Data on the basis of a axis, value etc\n",
    "df.sort_index(axis=1, ascending=False)"
   ]
  },
  {
   "cell_type": "code",
   "execution_count": null,
   "metadata": {},
   "outputs": [],
   "source": [
    "# we can also use here ascending function\n",
    "df.sort_values(by=\"C\", ascending=True)"
   ]
  },
  {
   "cell_type": "code",
   "execution_count": null,
   "metadata": {},
   "outputs": [],
   "source": [
    "# to seethe Data based on vakue\n",
    "df[\"C\"]"
   ]
  },
  {
   "cell_type": "code",
   "execution_count": null,
   "metadata": {},
   "outputs": [],
   "source": [
    "# to Select the Data row wise\n",
    "df[1:9]"
   ]
  },
  {
   "cell_type": "code",
   "execution_count": null,
   "metadata": {},
   "outputs": [],
   "source": [
    "# to select the Data by Labels   here this label function select data of all labels on specific index\n",
    "df.loc[dates[0]]"
   ]
  },
  {
   "cell_type": "code",
   "execution_count": null,
   "metadata": {},
   "outputs": [],
   "source": [
    "df.loc[:, [\"A\", \"B\"]]       # here we select the data of A , B label of all the rows"
   ]
  },
  {
   "cell_type": "code",
   "execution_count": null,
   "metadata": {},
   "outputs": [],
   "source": [
    "df.loc[\"20220107: 20220109\", [\"C\", \"D\"]]"
   ]
  },
  {
   "cell_type": "code",
   "execution_count": 11,
   "metadata": {},
   "outputs": [
    {
     "data": {
      "text/plain": [
       "0.7342052846088292"
      ]
     },
     "execution_count": 11,
     "metadata": {},
     "output_type": "execute_result"
    }
   ],
   "source": [
    "# to find the exact data of specific index\n",
    "df.at[dates[2], \"B\"]"
   ]
  },
  {
   "cell_type": "code",
   "execution_count": 19,
   "metadata": {},
   "outputs": [
    {
     "data": {
      "text/html": [
       "<div>\n",
       "<style scoped>\n",
       "    .dataframe tbody tr th:only-of-type {\n",
       "        vertical-align: middle;\n",
       "    }\n",
       "\n",
       "    .dataframe tbody tr th {\n",
       "        vertical-align: top;\n",
       "    }\n",
       "\n",
       "    .dataframe thead th {\n",
       "        text-align: right;\n",
       "    }\n",
       "</style>\n",
       "<table border=\"1\" class=\"dataframe\">\n",
       "  <thead>\n",
       "    <tr style=\"text-align: right;\">\n",
       "      <th></th>\n",
       "      <th>D</th>\n",
       "    </tr>\n",
       "  </thead>\n",
       "  <tbody>\n",
       "    <tr>\n",
       "      <th>2022-01-01</th>\n",
       "      <td>0.185706</td>\n",
       "    </tr>\n",
       "    <tr>\n",
       "      <th>2022-01-02</th>\n",
       "      <td>0.208881</td>\n",
       "    </tr>\n",
       "  </tbody>\n",
       "</table>\n",
       "</div>"
      ],
      "text/plain": [
       "                   D\n",
       "2022-01-01  0.185706\n",
       "2022-01-02  0.208881"
      ]
     },
     "execution_count": 19,
     "metadata": {},
     "output_type": "execute_result"
    }
   ],
   "source": [
    "# to find the Data on specific Index\n",
    "\n",
    "df.iloc[0:2, 3:4]"
   ]
  },
  {
   "cell_type": "code",
   "execution_count": 30,
   "metadata": {},
   "outputs": [
    {
     "data": {
      "text/html": [
       "<div>\n",
       "<style scoped>\n",
       "    .dataframe tbody tr th:only-of-type {\n",
       "        vertical-align: middle;\n",
       "    }\n",
       "\n",
       "    .dataframe tbody tr th {\n",
       "        vertical-align: top;\n",
       "    }\n",
       "\n",
       "    .dataframe thead th {\n",
       "        text-align: right;\n",
       "    }\n",
       "</style>\n",
       "<table border=\"1\" class=\"dataframe\">\n",
       "  <thead>\n",
       "    <tr style=\"text-align: right;\">\n",
       "      <th></th>\n",
       "      <th>A</th>\n",
       "      <th>B</th>\n",
       "      <th>C</th>\n",
       "      <th>D</th>\n",
       "    </tr>\n",
       "  </thead>\n",
       "  <tbody>\n",
       "    <tr>\n",
       "      <th>2022-01-01</th>\n",
       "      <td>0.328804</td>\n",
       "      <td>0.633337</td>\n",
       "      <td>0.853570</td>\n",
       "      <td>0.185706</td>\n",
       "    </tr>\n",
       "    <tr>\n",
       "      <th>2022-01-02</th>\n",
       "      <td>0.421210</td>\n",
       "      <td>0.848831</td>\n",
       "      <td>0.345675</td>\n",
       "      <td>0.208881</td>\n",
       "    </tr>\n",
       "    <tr>\n",
       "      <th>2022-01-03</th>\n",
       "      <td>0.315051</td>\n",
       "      <td>0.734205</td>\n",
       "      <td>0.298773</td>\n",
       "      <td>0.934904</td>\n",
       "    </tr>\n",
       "    <tr>\n",
       "      <th>2022-01-04</th>\n",
       "      <td>0.912109</td>\n",
       "      <td>0.703475</td>\n",
       "      <td>0.180420</td>\n",
       "      <td>0.738608</td>\n",
       "    </tr>\n",
       "    <tr>\n",
       "      <th>2022-01-05</th>\n",
       "      <td>0.392963</td>\n",
       "      <td>0.988777</td>\n",
       "      <td>0.879066</td>\n",
       "      <td>0.612972</td>\n",
       "    </tr>\n",
       "    <tr>\n",
       "      <th>2022-01-06</th>\n",
       "      <td>0.789282</td>\n",
       "      <td>0.814044</td>\n",
       "      <td>0.268760</td>\n",
       "      <td>0.287187</td>\n",
       "    </tr>\n",
       "    <tr>\n",
       "      <th>2022-01-07</th>\n",
       "      <td>0.972467</td>\n",
       "      <td>0.683605</td>\n",
       "      <td>0.267645</td>\n",
       "      <td>0.025971</td>\n",
       "    </tr>\n",
       "    <tr>\n",
       "      <th>2022-01-08</th>\n",
       "      <td>0.238314</td>\n",
       "      <td>0.123394</td>\n",
       "      <td>0.777436</td>\n",
       "      <td>0.058548</td>\n",
       "    </tr>\n",
       "    <tr>\n",
       "      <th>2022-01-09</th>\n",
       "      <td>0.356712</td>\n",
       "      <td>0.056347</td>\n",
       "      <td>0.717911</td>\n",
       "      <td>0.899513</td>\n",
       "    </tr>\n",
       "    <tr>\n",
       "      <th>2022-01-10</th>\n",
       "      <td>0.583836</td>\n",
       "      <td>0.382514</td>\n",
       "      <td>0.013235</td>\n",
       "      <td>0.894119</td>\n",
       "    </tr>\n",
       "    <tr>\n",
       "      <th>2022-01-11</th>\n",
       "      <td>0.267580</td>\n",
       "      <td>0.210319</td>\n",
       "      <td>0.797306</td>\n",
       "      <td>0.710625</td>\n",
       "    </tr>\n",
       "    <tr>\n",
       "      <th>2022-01-12</th>\n",
       "      <td>0.191495</td>\n",
       "      <td>0.216715</td>\n",
       "      <td>0.139056</td>\n",
       "      <td>0.560806</td>\n",
       "    </tr>\n",
       "  </tbody>\n",
       "</table>\n",
       "</div>"
      ],
      "text/plain": [
       "                   A         B         C         D\n",
       "2022-01-01  0.328804  0.633337  0.853570  0.185706\n",
       "2022-01-02  0.421210  0.848831  0.345675  0.208881\n",
       "2022-01-03  0.315051  0.734205  0.298773  0.934904\n",
       "2022-01-04  0.912109  0.703475  0.180420  0.738608\n",
       "2022-01-05  0.392963  0.988777  0.879066  0.612972\n",
       "2022-01-06  0.789282  0.814044  0.268760  0.287187\n",
       "2022-01-07  0.972467  0.683605  0.267645  0.025971\n",
       "2022-01-08  0.238314  0.123394  0.777436  0.058548\n",
       "2022-01-09  0.356712  0.056347  0.717911  0.899513\n",
       "2022-01-10  0.583836  0.382514  0.013235  0.894119\n",
       "2022-01-11  0.267580  0.210319  0.797306  0.710625\n",
       "2022-01-12  0.191495  0.216715  0.139056  0.560806"
      ]
     },
     "execution_count": 30,
     "metadata": {},
     "output_type": "execute_result"
    }
   ],
   "source": [
    "# to filter the Data on specific value\n",
    "#df[df[\"B\"] > 0.6 ]\n",
    "df[(df[\"A\"] > 0) & (df[\"B\"] > 0)]"
   ]
  },
  {
   "cell_type": "code",
   "execution_count": 32,
   "metadata": {},
   "outputs": [],
   "source": [
    "df2=df.copy()"
   ]
  },
  {
   "cell_type": "code",
   "execution_count": 38,
   "metadata": {},
   "outputs": [
    {
     "data": {
      "text/html": [
       "<div>\n",
       "<style scoped>\n",
       "    .dataframe tbody tr th:only-of-type {\n",
       "        vertical-align: middle;\n",
       "    }\n",
       "\n",
       "    .dataframe tbody tr th {\n",
       "        vertical-align: top;\n",
       "    }\n",
       "\n",
       "    .dataframe thead th {\n",
       "        text-align: right;\n",
       "    }\n",
       "</style>\n",
       "<table border=\"1\" class=\"dataframe\">\n",
       "  <thead>\n",
       "    <tr style=\"text-align: right;\">\n",
       "      <th></th>\n",
       "      <th>A</th>\n",
       "      <th>B</th>\n",
       "      <th>C</th>\n",
       "      <th>D</th>\n",
       "      <th>Mean</th>\n",
       "    </tr>\n",
       "  </thead>\n",
       "  <tbody>\n",
       "    <tr>\n",
       "      <th>2022-01-01</th>\n",
       "      <td>0.328804</td>\n",
       "      <td>0.633337</td>\n",
       "      <td>0.853570</td>\n",
       "      <td>0.185706</td>\n",
       "      <td>0.500354</td>\n",
       "    </tr>\n",
       "    <tr>\n",
       "      <th>2022-01-02</th>\n",
       "      <td>0.421210</td>\n",
       "      <td>0.848831</td>\n",
       "      <td>0.345675</td>\n",
       "      <td>0.208881</td>\n",
       "      <td>0.456149</td>\n",
       "    </tr>\n",
       "    <tr>\n",
       "      <th>2022-01-03</th>\n",
       "      <td>0.315051</td>\n",
       "      <td>0.734205</td>\n",
       "      <td>0.298773</td>\n",
       "      <td>0.934904</td>\n",
       "      <td>0.570733</td>\n",
       "    </tr>\n",
       "    <tr>\n",
       "      <th>2022-01-04</th>\n",
       "      <td>0.912109</td>\n",
       "      <td>0.703475</td>\n",
       "      <td>0.180420</td>\n",
       "      <td>0.738608</td>\n",
       "      <td>0.633653</td>\n",
       "    </tr>\n",
       "    <tr>\n",
       "      <th>2022-01-05</th>\n",
       "      <td>0.392963</td>\n",
       "      <td>0.988777</td>\n",
       "      <td>0.879066</td>\n",
       "      <td>0.612972</td>\n",
       "      <td>0.718444</td>\n",
       "    </tr>\n",
       "    <tr>\n",
       "      <th>2022-01-06</th>\n",
       "      <td>0.789282</td>\n",
       "      <td>0.814044</td>\n",
       "      <td>0.268760</td>\n",
       "      <td>0.287187</td>\n",
       "      <td>0.539818</td>\n",
       "    </tr>\n",
       "    <tr>\n",
       "      <th>2022-01-07</th>\n",
       "      <td>0.972467</td>\n",
       "      <td>0.683605</td>\n",
       "      <td>0.267645</td>\n",
       "      <td>0.025971</td>\n",
       "      <td>0.487422</td>\n",
       "    </tr>\n",
       "    <tr>\n",
       "      <th>2022-01-08</th>\n",
       "      <td>0.238314</td>\n",
       "      <td>0.123394</td>\n",
       "      <td>0.777436</td>\n",
       "      <td>0.058548</td>\n",
       "      <td>0.299423</td>\n",
       "    </tr>\n",
       "    <tr>\n",
       "      <th>2022-01-09</th>\n",
       "      <td>0.356712</td>\n",
       "      <td>0.056347</td>\n",
       "      <td>0.717911</td>\n",
       "      <td>0.899513</td>\n",
       "      <td>0.507621</td>\n",
       "    </tr>\n",
       "    <tr>\n",
       "      <th>2022-01-10</th>\n",
       "      <td>0.583836</td>\n",
       "      <td>0.382514</td>\n",
       "      <td>0.013235</td>\n",
       "      <td>0.894119</td>\n",
       "      <td>0.468426</td>\n",
       "    </tr>\n",
       "    <tr>\n",
       "      <th>2022-01-11</th>\n",
       "      <td>0.267580</td>\n",
       "      <td>0.210319</td>\n",
       "      <td>0.797306</td>\n",
       "      <td>0.710625</td>\n",
       "      <td>0.496458</td>\n",
       "    </tr>\n",
       "    <tr>\n",
       "      <th>2022-01-12</th>\n",
       "      <td>0.191495</td>\n",
       "      <td>0.216715</td>\n",
       "      <td>0.139056</td>\n",
       "      <td>0.560806</td>\n",
       "      <td>0.277018</td>\n",
       "    </tr>\n",
       "  </tbody>\n",
       "</table>\n",
       "</div>"
      ],
      "text/plain": [
       "                   A         B         C         D      Mean\n",
       "2022-01-01  0.328804  0.633337  0.853570  0.185706  0.500354\n",
       "2022-01-02  0.421210  0.848831  0.345675  0.208881  0.456149\n",
       "2022-01-03  0.315051  0.734205  0.298773  0.934904  0.570733\n",
       "2022-01-04  0.912109  0.703475  0.180420  0.738608  0.633653\n",
       "2022-01-05  0.392963  0.988777  0.879066  0.612972  0.718444\n",
       "2022-01-06  0.789282  0.814044  0.268760  0.287187  0.539818\n",
       "2022-01-07  0.972467  0.683605  0.267645  0.025971  0.487422\n",
       "2022-01-08  0.238314  0.123394  0.777436  0.058548  0.299423\n",
       "2022-01-09  0.356712  0.056347  0.717911  0.899513  0.507621\n",
       "2022-01-10  0.583836  0.382514  0.013235  0.894119  0.468426\n",
       "2022-01-11  0.267580  0.210319  0.797306  0.710625  0.496458\n",
       "2022-01-12  0.191495  0.216715  0.139056  0.560806  0.277018"
      ]
     },
     "execution_count": 38,
     "metadata": {},
     "output_type": "execute_result"
    }
   ],
   "source": [
    "df[\"Mean\"] = df.mean(axis=1)\n",
    "df"
   ]
  },
  {
   "cell_type": "code",
   "execution_count": 40,
   "metadata": {},
   "outputs": [
    {
     "data": {
      "text/html": [
       "<div>\n",
       "<style scoped>\n",
       "    .dataframe tbody tr th:only-of-type {\n",
       "        vertical-align: middle;\n",
       "    }\n",
       "\n",
       "    .dataframe tbody tr th {\n",
       "        vertical-align: top;\n",
       "    }\n",
       "\n",
       "    .dataframe thead th {\n",
       "        text-align: right;\n",
       "    }\n",
       "</style>\n",
       "<table border=\"1\" class=\"dataframe\">\n",
       "  <thead>\n",
       "    <tr style=\"text-align: right;\">\n",
       "      <th></th>\n",
       "      <th>A</th>\n",
       "      <th>B</th>\n",
       "      <th>C</th>\n",
       "      <th>D</th>\n",
       "      <th>E</th>\n",
       "    </tr>\n",
       "  </thead>\n",
       "  <tbody>\n",
       "    <tr>\n",
       "      <th>2022-01-01</th>\n",
       "      <td>0.328804</td>\n",
       "      <td>0.633337</td>\n",
       "      <td>0.853570</td>\n",
       "      <td>0.185706</td>\n",
       "      <td>1</td>\n",
       "    </tr>\n",
       "    <tr>\n",
       "      <th>2022-01-02</th>\n",
       "      <td>0.421210</td>\n",
       "      <td>0.848831</td>\n",
       "      <td>0.345675</td>\n",
       "      <td>0.208881</td>\n",
       "      <td>2</td>\n",
       "    </tr>\n",
       "    <tr>\n",
       "      <th>2022-01-03</th>\n",
       "      <td>0.315051</td>\n",
       "      <td>0.734205</td>\n",
       "      <td>0.298773</td>\n",
       "      <td>0.934904</td>\n",
       "      <td>3</td>\n",
       "    </tr>\n",
       "    <tr>\n",
       "      <th>2022-01-04</th>\n",
       "      <td>0.912109</td>\n",
       "      <td>0.703475</td>\n",
       "      <td>0.180420</td>\n",
       "      <td>0.738608</td>\n",
       "      <td>4</td>\n",
       "    </tr>\n",
       "    <tr>\n",
       "      <th>2022-01-05</th>\n",
       "      <td>0.392963</td>\n",
       "      <td>0.988777</td>\n",
       "      <td>0.879066</td>\n",
       "      <td>0.612972</td>\n",
       "      <td>5</td>\n",
       "    </tr>\n",
       "    <tr>\n",
       "      <th>2022-01-06</th>\n",
       "      <td>0.789282</td>\n",
       "      <td>0.814044</td>\n",
       "      <td>0.268760</td>\n",
       "      <td>0.287187</td>\n",
       "      <td>6</td>\n",
       "    </tr>\n",
       "    <tr>\n",
       "      <th>2022-01-07</th>\n",
       "      <td>0.972467</td>\n",
       "      <td>0.683605</td>\n",
       "      <td>0.267645</td>\n",
       "      <td>0.025971</td>\n",
       "      <td>7</td>\n",
       "    </tr>\n",
       "    <tr>\n",
       "      <th>2022-01-08</th>\n",
       "      <td>0.238314</td>\n",
       "      <td>0.123394</td>\n",
       "      <td>0.777436</td>\n",
       "      <td>0.058548</td>\n",
       "      <td>8</td>\n",
       "    </tr>\n",
       "    <tr>\n",
       "      <th>2022-01-09</th>\n",
       "      <td>0.356712</td>\n",
       "      <td>0.056347</td>\n",
       "      <td>0.717911</td>\n",
       "      <td>0.899513</td>\n",
       "      <td>9</td>\n",
       "    </tr>\n",
       "    <tr>\n",
       "      <th>2022-01-10</th>\n",
       "      <td>0.583836</td>\n",
       "      <td>0.382514</td>\n",
       "      <td>0.013235</td>\n",
       "      <td>0.894119</td>\n",
       "      <td>10</td>\n",
       "    </tr>\n",
       "    <tr>\n",
       "      <th>2022-01-11</th>\n",
       "      <td>0.267580</td>\n",
       "      <td>0.210319</td>\n",
       "      <td>0.797306</td>\n",
       "      <td>0.710625</td>\n",
       "      <td>13</td>\n",
       "    </tr>\n",
       "    <tr>\n",
       "      <th>2022-01-12</th>\n",
       "      <td>0.191495</td>\n",
       "      <td>0.216715</td>\n",
       "      <td>0.139056</td>\n",
       "      <td>0.560806</td>\n",
       "      <td>14</td>\n",
       "    </tr>\n",
       "  </tbody>\n",
       "</table>\n",
       "</div>"
      ],
      "text/plain": [
       "                   A         B         C         D   E\n",
       "2022-01-01  0.328804  0.633337  0.853570  0.185706   1\n",
       "2022-01-02  0.421210  0.848831  0.345675  0.208881   2\n",
       "2022-01-03  0.315051  0.734205  0.298773  0.934904   3\n",
       "2022-01-04  0.912109  0.703475  0.180420  0.738608   4\n",
       "2022-01-05  0.392963  0.988777  0.879066  0.612972   5\n",
       "2022-01-06  0.789282  0.814044  0.268760  0.287187   6\n",
       "2022-01-07  0.972467  0.683605  0.267645  0.025971   7\n",
       "2022-01-08  0.238314  0.123394  0.777436  0.058548   8\n",
       "2022-01-09  0.356712  0.056347  0.717911  0.899513   9\n",
       "2022-01-10  0.583836  0.382514  0.013235  0.894119  10\n",
       "2022-01-11  0.267580  0.210319  0.797306  0.710625  13\n",
       "2022-01-12  0.191495  0.216715  0.139056  0.560806  14"
      ]
     },
     "execution_count": 40,
     "metadata": {},
     "output_type": "execute_result"
    }
   ],
   "source": [
    "# to add new column \n",
    "df2[\"E\"]=[1,2,3,4,5,6,7,8,9,10,13,14]\n",
    "df2"
   ]
  },
  {
   "cell_type": "code",
   "execution_count": null,
   "metadata": {},
   "outputs": [],
   "source": []
  }
 ],
 "metadata": {
  "interpreter": {
   "hash": "66da150ff2047feb6e555e46ec895bb9656d9e807775e7e6aa70df65ba63f56f"
  },
  "kernelspec": {
   "display_name": "Python 3.10.1 64-bit",
   "language": "python",
   "name": "python3"
  },
  "language_info": {
   "codemirror_mode": {
    "name": "ipython",
    "version": 3
   },
   "file_extension": ".py",
   "mimetype": "text/x-python",
   "name": "python",
   "nbconvert_exporter": "python",
   "pygments_lexer": "ipython3",
   "version": "3.10.1"
  },
  "orig_nbformat": 4
 },
 "nbformat": 4,
 "nbformat_minor": 2
}
