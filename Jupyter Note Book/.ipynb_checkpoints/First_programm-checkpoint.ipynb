{
 "cells": [
  {
   "attachments": {
    "images.jpg": {
     "image/jpeg": "[encoded data removed]"
    }
   },
   "cell_type": "markdown",
   "id": "3a8d9005",
   "metadata": {},
   "source": [
    "#                                My First Programme in This Chiila with Baba Ammmar\n",
    "![images.jpg](attachment:images.jpg)\n"
   ]
  },
  {
   "cell_type": "code",
   "execution_count": null,
   "id": "4dbddf05",
   "metadata": {},
   "outputs": [],
   "source": [
    "print(\"why this shit is not working\")\n",
    "print(2+3*5+10)\n",
    "print(\"Hello Taqi HAider\")\n",
    "print(2+9*85/37-151+221*5)\n"
   ]
  },
  {
   "cell_type": "markdown",
   "id": "426dcf66",
   "metadata": {},
   "source": [
    "#  Operators"
   ]
  },
  {
   "cell_type": "code",
   "execution_count": null,
   "id": "8ff01c32",
   "metadata": {},
   "outputs": [],
   "source": [
    "# #  Setp 1   # import library \n",
    "\n",
    "import seaborn as sns\n",
    "import matplotlib.pyplot as plt\n",
    "\n",
    "sns.set_theme(style=\"ticks\" , color_codes= True )\n",
    "kashti=sns.load_dataset(\"titanic\")\n",
    "print(kashti)\n",
    "\n",
    "p= sns.countplot(x=\"sex\" , data=kashti)\n",
    "plt.show()\n"
   ]
  },
  {
   "cell_type": "markdown",
   "id": "ab875246",
   "metadata": {},
   "source": [
    "# Strings"
   ]
  },
  {
   "cell_type": "code",
   "execution_count": null,
   "id": "49e18231",
   "metadata": {},
   "outputs": [],
   "source": [
    "print(\"I am  going learn the python in this Chilla\")   # information closed in \"\"\n"
   ]
  },
  {
   "cell_type": "markdown",
   "id": "767863b5",
   "metadata": {},
   "source": [
    "# Comments"
   ]
  },
  {
   "cell_type": "code",
   "execution_count": null,
   "id": "06dfe88a",
   "metadata": {},
   "outputs": [],
   "source": [
    "print(\"How to use comment feature in python\")   #  select the text then press Ctrl+/   to comment off"
   ]
  },
  {
   "cell_type": "markdown",
   "id": "3c4a7adb",
   "metadata": {},
   "source": [
    "# Variables"
   ]
  },
  {
   "cell_type": "code",
   "execution_count": null,
   "id": "bcc995f0",
   "metadata": {},
   "outputs": [],
   "source": [
    "Alfa=b= \"Gym KAb jaoo ge.\"\n",
    "print(b)\n",
    "m=d=alfa= 10+255*244/65565\n",
    "print(m)\n",
    "h=\"why your plans are being failed regarding gym\"\n",
    "g=\"because of plans. i am facing problems in making plans\"\n",
    "print(h+g)\n",
    "print(type(b))    #here i checked the type or class of variable\n",
    "\n"
   ]
  },
  {
   "cell_type": "markdown",
   "id": "f8292a57",
   "metadata": {},
   "source": [
    "# Input Functions"
   ]
  },
  {
   "cell_type": "code",
   "execution_count": null,
   "id": "cd8d81f3",
   "metadata": {},
   "outputs": [],
   "source": [
    "question= input (\"where are you going? \")             # here input is function used to put info\n",
    "\n",
    "age= input (\"what is your age? \")\n",
    "gym= \"burn some extra calories\"\n",
    "print(gym )\n"
   ]
  },
  {
   "cell_type": "markdown",
   "id": "67c3f78c",
   "metadata": {},
   "source": [
    "# Conditional Logics"
   ]
  },
  {
   "cell_type": "code",
   "execution_count": null,
   "id": "3a4ab506",
   "metadata": {},
   "outputs": [],
   "source": [
    "netflix_subscription=1000                 # using logics like equal to, less than, greater than, and both\n",
    "you_paid_for_subscription=1002\n",
    "print(netflix_subscription==you_paid_for_subscription)\n",
    "\n",
    "\n",
    "# i will use both input function and logics here.\n",
    "\n",
    "weapon_issued=2\n",
    "customer= input (\"How many weapons have been issued to you? \")     # input function\n",
    "customer=int(customer)    #here i have used the int function to change the class typr from string to integer\n",
    "print(weapon_issued==customer)             #logical function\n",
    "\n"
   ]
  },
  {
   "cell_type": "markdown",
   "id": "f42dd7ae",
   "metadata": {},
   "source": [
    "# Type Conversion\n",
    "\n",
    "# x=3             # integer\n",
    "# y=10.9             # float\n",
    "# z= gym              # string"
   ]
  },
  {
   "cell_type": "code",
   "execution_count": null,
   "id": "54e56625",
   "metadata": {},
   "outputs": [],
   "source": [
    "place=input(\"Which place is this? \")\n",
    "\n",
    "print(place, type(int(place)))             # here i have converterd the class type\n"
   ]
  },
  {
   "cell_type": "markdown",
   "id": "0437c769",
   "metadata": {},
   "source": [
    "# if Else Elif Statement"
   ]
  },
  {
   "cell_type": "code",
   "execution_count": null,
   "id": "4c7a4314",
   "metadata": {},
   "outputs": [],
   "source": [
    "pak_tank_size=10\n",
    "india_tank_size=15\n",
    "\n",
    "if pak_tank_size==india_tank_size:\n",
    "    print(\"Both cannot win the war\")\n",
    "\n",
    "elif pak_tank_size!= india_tank_size:\n",
    "    print(\"Don't know the outcome\")\n",
    "\n",
    "else:\n",
    "    print(\"It's depends on courage and Intelligence\")"
   ]
  },
  {
   "cell_type": "markdown",
   "id": "6244da9c",
   "metadata": {},
   "source": [
    "# Functions"
   ]
  },
  {
   "cell_type": "code",
   "execution_count": null,
   "id": "b0a65bbb",
   "metadata": {},
   "outputs": [],
   "source": [
    "# defining a function\n",
    "\n",
    "def alfa():\n",
    "    print(\"this is just try\")\n",
    "\n",
    "alfa()\n",
    "\n",
    "\n",
    "defining a function using if else elif statement\n",
    "\n",
    "\n",
    "\n",
    "\n",
    "\n",
    "\n",
    "def   gun_shop_size(size):\n",
    "     if  size==10:\n",
    "         print(\"this is small gun\")\n",
    "     elif size >= 12:\n",
    "         print(\"this will be good\")\n",
    "\n",
    "     else:\n",
    "         print(\"this can be used\")\n",
    "     \n",
    "gun_shop_size(20)\n",
    "\n",
    "\n",
    "\n",
    "# defining a function and using return \n",
    "\n",
    "def future_world(badness):\n",
    "    future= badness+ 10\n",
    "    return future\n",
    "\n",
    "world_situation= future_world(10)\n",
    "print(\"Allah will do better\")"
   ]
  },
  {
   "cell_type": "markdown",
   "id": "9df8063f",
   "metadata": {},
   "source": [
    "# Loops"
   ]
  },
  {
   "cell_type": "code",
   "execution_count": null,
   "id": "43ebb95f",
   "metadata": {},
   "outputs": [],
   "source": [
    " # For and While loop\n",
    "\n",
    "n=2\n",
    "while(n<7):\n",
    "      print(n)\n",
    "      n= n+3\n",
    "\n",
    "\n",
    "\n",
    "# for loop\n",
    "\n",
    "for x in range(10,20):\n",
    "  print(x)\n",
    "\n",
    "     \n",
    "\n",
    "# for loop using array\n",
    "\n",
    "\n",
    "week=[\"Mon\", \"Tue\", \"Wed\", \"Thu\", \"Fri\", \"Sat\", \"Sun\"]\n",
    "for w in week:\n",
    "  if (w==\"Sat\"): break    # for break\n",
    "  print(w)\n",
    "\n",
    "  "
   ]
  },
  {
   "cell_type": "markdown",
   "id": "c91bc512",
   "metadata": {},
   "source": [
    "# Importing Libraries"
   ]
  },
  {
   "cell_type": "code",
   "execution_count": null,
   "id": "9c7362fb",
   "metadata": {},
   "outputs": [],
   "source": [
    " # importing different libraries\n",
    "\n",
    "import math\n",
    "print(\"The value of pi is\", math.pi)\n",
    "\n",
    "\n",
    "\n",
    "import statistics\n",
    "x= [120,100,2485,454,254]"
   ]
  },
  {
   "cell_type": "markdown",
   "id": "38e64654",
   "metadata": {},
   "source": [
    "# Trouble Shooting in Python"
   ]
  },
  {
   "cell_type": "code",
   "execution_count": null,
   "id": "30a929cc",
   "metadata": {},
   "outputs": [],
   "source": [
    "# print(hello man)    #syntax error\n",
    "\n",
    "\n",
    "#print(10/0)     # mathematical errors are called as runtime error\n",
    "\n",
    "\n",
    "\n",
    "name= Taqi\n",
    "print(\"Hello\")         # this error will be called as symmentic error    \n",
    "                       # most difficult error to find when your code has many lines        "
   ]
  },
  {
   "attachments": {
    "images%20%281%29.jpg": {
     "image/jpeg": "[encoded data removed]"
    }
   },
   "cell_type": "markdown",
   "id": "27710cae",
   "metadata": {},
   "source": [
    "![images%20%281%29.jpg](attachment:images%20%281%29.jpg)"
   ]
  }
 ],
 "metadata": {
  "kernelspec": {
   "display_name": "Python 3 (ipykernel)",
   "language": "python",
   "name": "python3"
  },
  "language_info": {
   "codemirror_mode": {
    "name": "ipython",
    "version": 3
   },
   "file_extension": ".py",
   "mimetype": "text/x-python",
   "name": "python",
   "nbconvert_exporter": "python",
   "pygments_lexer": "ipython3",
   "version": "3.9.7"
  }
 },
 "nbformat": 4,
 "nbformat_minor": 5
}
