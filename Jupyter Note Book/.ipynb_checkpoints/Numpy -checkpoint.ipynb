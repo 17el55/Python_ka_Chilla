{
 "cells": [
  {
   "cell_type": "markdown",
   "id": "7e192b3f",
   "metadata": {},
   "source": [
    "# Numpy Practice session\n"
   ]
  },
  {
   "cell_type": "code",
   "execution_count": 2,
   "id": "1fab7c18",
   "metadata": {
    "scrolled": true
   },
   "outputs": [
    {
     "data": {
      "text/plain": [
       "[1, 2, 3, 5]"
      ]
     },
     "execution_count": 2,
     "metadata": {},
     "output_type": "execute_result"
    }
   ],
   "source": [
    "# to Create an arrray using nyumpy\n",
    "# 1-D array\n",
    "import numpy as np\n",
    "array=([1,2,3,5])\n",
    "array\n"
   ]
  },
  {
   "cell_type": "code",
   "execution_count": null,
   "id": "0ae45350",
   "metadata": {},
   "outputs": [],
   "source": [
    "a1=np.array([\"guns\", \"Dark web\", \"Computers\",\"Cars\"])\n",
    "a1"
   ]
  },
  {
   "cell_type": "code",
   "execution_count": null,
   "id": "2917ebc3",
   "metadata": {},
   "outputs": [],
   "source": [
    "# to check the type of array\n",
    "type(a1)\n"
   ]
  },
  {
   "cell_type": "code",
   "execution_count": null,
   "id": "7faecef6",
   "metadata": {
    "scrolled": true
   },
   "outputs": [],
   "source": [
    "# to Find the length\n",
    "len(a1)"
   ]
  },
  {
   "cell_type": "code",
   "execution_count": null,
   "id": "364f1255",
   "metadata": {},
   "outputs": [],
   "source": [
    "# to index specific value\n",
    "a1[1]"
   ]
  },
  {
   "cell_type": "code",
   "execution_count": null,
   "id": "bd1753e7",
   "metadata": {},
   "outputs": [],
   "source": [
    "# to make array of  specific range with intervals\n",
    "b1=np.arange(10,20,2)\n",
    "b1"
   ]
  },
  {
   "cell_type": "code",
   "execution_count": null,
   "id": "b77239fb",
   "metadata": {},
   "outputs": [],
   "source": [
    "\n",
    "# zeros\n",
    "zero=np.zeros(2)\n",
    "zero"
   ]
  },
  {
   "cell_type": "code",
   "execution_count": null,
   "id": "14bc32de",
   "metadata": {},
   "outputs": [],
   "source": [
    "# ones\n",
    "one=np.ones(6)\n",
    "one"
   ]
  },
  {
   "cell_type": "code",
   "execution_count": null,
   "id": "ca71b3f3",
   "metadata": {},
   "outputs": [],
   "source": [
    "# empty\n",
    "null=np.empty(5)\n",
    "null"
   ]
  },
  {
   "cell_type": "code",
   "execution_count": null,
   "id": "de7a6da0",
   "metadata": {},
   "outputs": [],
   "source": [
    "# line space # to create an array with specific number   kisi bhi array ko makhsoos number ma divide karna.\n",
    "np.linspace(1,10,num=5)"
   ]
  },
  {
   "cell_type": "code",
   "execution_count": null,
   "id": "a5ba9203",
   "metadata": {},
   "outputs": [],
   "source": [
    "# specify the data type\n",
    "np.ones(20, dtype=np.int64 )"
   ]
  },
  {
   "cell_type": "code",
   "execution_count": null,
   "id": "8de97adb",
   "metadata": {},
   "outputs": [],
   "source": [
    "np.ones(20, dtype=np.float32 )"
   ]
  },
  {
   "cell_type": "markdown",
   "id": "564740bf",
   "metadata": {},
   "source": [
    "# Array Functions"
   ]
  },
  {
   "cell_type": "code",
   "execution_count": null,
   "id": "9d35150e",
   "metadata": {},
   "outputs": [],
   "source": [
    "t= np.array([10,5466,1555,54556,455,54,5,6,545,125,452.12])\n",
    "t\n"
   ]
  },
  {
   "cell_type": "code",
   "execution_count": null,
   "id": "2eba7e2c",
   "metadata": {},
   "outputs": [],
   "source": [
    "t.sort()\n",
    "t"
   ]
  },
  {
   "cell_type": "code",
   "execution_count": null,
   "id": "4bab80e9",
   "metadata": {},
   "outputs": [],
   "source": [
    "v=np.array([1,10.2,56.8,463.7,235,14])\n",
    "v"
   ]
  },
  {
   "cell_type": "code",
   "execution_count": null,
   "id": "28107019",
   "metadata": {},
   "outputs": [],
   "source": [
    "# to add or concatenate two arrays\n",
    "\n",
    "f=np.concatenate((v, t))\n",
    "f"
   ]
  },
  {
   "cell_type": "code",
   "execution_count": null,
   "id": "76e7d0ea",
   "metadata": {},
   "outputs": [],
   "source": [
    "f.sort()\n",
    "f"
   ]
  },
  {
   "cell_type": "markdown",
   "id": "fd97b967",
   "metadata": {},
   "source": [
    "# D Arrays"
   ]
  },
  {
   "cell_type": "code",
   "execution_count": 10,
   "id": "a9db3184",
   "metadata": {},
   "outputs": [
    {
     "data": {
      "text/plain": [
       "array([[ 1. ,  2. ,  9. ,  3. ],\n",
       "       [10. , 24. , 56.2, 12. ]])"
      ]
     },
     "execution_count": 10,
     "metadata": {},
     "output_type": "execute_result"
    }
   ],
   "source": [
    "b=np.array([[1,2,9,3],[10,24,56.2,12]])\n",
    "b"
   ]
  },
  {
   "cell_type": "code",
   "execution_count": 11,
   "id": "4c2ae75b",
   "metadata": {},
   "outputs": [
    {
     "data": {
      "text/plain": [
       "array([[  10.3,  190.6,   23. ,   12. ],\n",
       "       [  10. ,   56. , 7865. ,  354. ]])"
      ]
     },
     "execution_count": 11,
     "metadata": {},
     "output_type": "execute_result"
    }
   ],
   "source": [
    "matrix1=np.array([[10.3,190.6,23,12],[10,56,7865,354]])\n",
    "matrix1"
   ]
  },
  {
   "cell_type": "code",
   "execution_count": 12,
   "id": "c159a0db",
   "metadata": {},
   "outputs": [
    {
     "data": {
      "text/plain": [
       "array([[1.000e+00, 2.000e+00, 9.000e+00, 3.000e+00],\n",
       "       [1.000e+01, 2.400e+01, 5.620e+01, 1.200e+01],\n",
       "       [1.030e+01, 1.906e+02, 2.300e+01, 1.200e+01],\n",
       "       [1.000e+01, 5.600e+01, 7.865e+03, 3.540e+02]])"
      ]
     },
     "execution_count": 12,
     "metadata": {},
     "output_type": "execute_result"
    }
   ],
   "source": [
    "np.concatenate((b,matrix1))"
   ]
  },
  {
   "cell_type": "code",
   "execution_count": 15,
   "id": "51c427a1",
   "metadata": {},
   "outputs": [
    {
     "data": {
      "text/plain": [
       "2"
      ]
     },
     "execution_count": 15,
     "metadata": {},
     "output_type": "execute_result"
    }
   ],
   "source": [
    "# to find the number to dimension\n",
    "\n",
    "b.ndim"
   ]
  },
  {
   "cell_type": "code",
   "execution_count": 16,
   "id": "f0745fc0",
   "metadata": {},
   "outputs": [
    {
     "data": {
      "text/plain": [
       "8"
      ]
     },
     "execution_count": 16,
     "metadata": {},
     "output_type": "execute_result"
    }
   ],
   "source": [
    "# to find the size (number of elements)\n",
    "b.size"
   ]
  },
  {
   "cell_type": "code",
   "execution_count": 18,
   "id": "0a7c6dfb",
   "metadata": {},
   "outputs": [
    {
     "data": {
      "text/plain": [
       "array([[ 1. ,  2. ,  9. ,  3. ],\n",
       "       [10. , 24. , 56.2, 12. ]])"
      ]
     },
     "execution_count": 18,
     "metadata": {},
     "output_type": "execute_result"
    }
   ],
   "source": [
    "b"
   ]
  },
  {
   "cell_type": "code",
   "execution_count": 17,
   "id": "6bb8f8fd",
   "metadata": {
    "scrolled": true
   },
   "outputs": [
    {
     "data": {
      "text/plain": [
       "(2, 4)"
      ]
     },
     "execution_count": 17,
     "metadata": {},
     "output_type": "execute_result"
    }
   ],
   "source": [
    "# shape of array\n",
    "b.shape"
   ]
  },
  {
   "cell_type": "code",
   "execution_count": 22,
   "id": "fd01a432",
   "metadata": {},
   "outputs": [
    {
     "data": {
      "text/plain": [
       "array([ 0,  1,  2,  3,  4,  5,  6,  7,  8,  9, 10, 11, 12, 13, 14, 15, 16,\n",
       "       17, 18, 19, 20, 21, 22, 23, 24])"
      ]
     },
     "execution_count": 22,
     "metadata": {},
     "output_type": "execute_result"
    }
   ],
   "source": [
    "c=np.arange(25)\n",
    "c"
   ]
  },
  {
   "cell_type": "code",
   "execution_count": 23,
   "id": "deedd6bc",
   "metadata": {},
   "outputs": [
    {
     "data": {
      "text/plain": [
       "array([[ 0,  1,  2,  3,  4],\n",
       "       [ 5,  6,  7,  8,  9],\n",
       "       [10, 11, 12, 13, 14],\n",
       "       [15, 16, 17, 18, 19],\n",
       "       [20, 21, 22, 23, 24]])"
      ]
     },
     "execution_count": 23,
     "metadata": {},
     "output_type": "execute_result"
    }
   ],
   "source": [
    "# to make the array or reshape the existing one\n",
    "c.reshape(5,5)   # 5*5=25"
   ]
  },
  {
   "cell_type": "code",
   "execution_count": 34,
   "id": "2d89b04f",
   "metadata": {},
   "outputs": [
    {
     "data": {
      "text/plain": [
       "array([ 1. ,  2. ,  3. , 45.2, 52. ,  3. ,  7. , 63. , 56. ])"
      ]
     },
     "execution_count": 34,
     "metadata": {},
     "output_type": "execute_result"
    }
   ],
   "source": [
    "# converting 1D into 2D array\n",
    "\n",
    "k=np.array([1,2,3,45.2,52,3,7,63,56])\n",
    "k"
   ]
  },
  {
   "cell_type": "code",
   "execution_count": 35,
   "id": "dc2e1c9b",
   "metadata": {},
   "outputs": [
    {
     "data": {
      "text/plain": [
       "9"
      ]
     },
     "execution_count": 35,
     "metadata": {},
     "output_type": "execute_result"
    }
   ],
   "source": [
    "k.size"
   ]
  },
  {
   "cell_type": "code",
   "execution_count": 36,
   "id": "a18b4acd",
   "metadata": {
    "scrolled": true
   },
   "outputs": [
    {
     "data": {
      "text/plain": [
       "array([[ 1. ,  2. ,  3. , 45.2, 52. ,  3. ,  7. , 63. , 56. ]])"
      ]
     },
     "execution_count": 36,
     "metadata": {},
     "output_type": "execute_result"
    }
   ],
   "source": [
    "k1=k[np.newaxis ,:]\n",
    "k1"
   ]
  },
  {
   "cell_type": "code",
   "execution_count": 37,
   "id": "7e9f7edf",
   "metadata": {},
   "outputs": [
    {
     "data": {
      "text/plain": [
       "(1, 9)"
      ]
     },
     "execution_count": 37,
     "metadata": {},
     "output_type": "execute_result"
    }
   ],
   "source": [
    "k1.shape"
   ]
  },
  {
   "cell_type": "code",
   "execution_count": 41,
   "id": "75537008",
   "metadata": {},
   "outputs": [
    {
     "data": {
      "text/plain": [
       "array([ 1. ,  2. ,  3. , 45.2, 52. ,  3. ,  7. , 63. , 56. ])"
      ]
     },
     "execution_count": 41,
     "metadata": {},
     "output_type": "execute_result"
    }
   ],
   "source": [
    "k1=k[ :np.newaxis]\n",
    "k1"
   ]
  },
  {
   "cell_type": "code",
   "execution_count": 39,
   "id": "eee84165",
   "metadata": {
    "scrolled": true
   },
   "outputs": [
    {
     "data": {
      "text/plain": [
       "(9,)"
      ]
     },
     "execution_count": 39,
     "metadata": {},
     "output_type": "execute_result"
    }
   ],
   "source": [
    "k1.shape"
   ]
  },
  {
   "cell_type": "code",
   "execution_count": 42,
   "id": "29eac4fa",
   "metadata": {},
   "outputs": [
    {
     "data": {
      "text/plain": [
       "array([ 6. ,  7. ,  8. , 50.2, 57. ,  8. , 12. , 68. , 61. ])"
      ]
     },
     "execution_count": 42,
     "metadata": {},
     "output_type": "execute_result"
    }
   ],
   "source": [
    "k1+5"
   ]
  },
  {
   "cell_type": "code",
   "execution_count": 43,
   "id": "97ea829f",
   "metadata": {},
   "outputs": [
    {
     "data": {
      "text/plain": [
       "array([-5. , -4. , -3. , 39.2, 46. , -3. ,  1. , 57. , 50. ])"
      ]
     },
     "execution_count": 43,
     "metadata": {},
     "output_type": "execute_result"
    }
   ],
   "source": [
    "k1-6"
   ]
  },
  {
   "cell_type": "code",
   "execution_count": 44,
   "id": "f3c50162",
   "metadata": {},
   "outputs": [
    {
     "data": {
      "text/plain": [
       "array([  9. ,  18. ,  27. , 406.8, 468. ,  27. ,  63. , 567. , 504. ])"
      ]
     },
     "execution_count": 44,
     "metadata": {},
     "output_type": "execute_result"
    }
   ],
   "source": [
    "k1*9"
   ]
  },
  {
   "cell_type": "code",
   "execution_count": 45,
   "id": "2dd2731a",
   "metadata": {},
   "outputs": [
    {
     "data": {
      "text/plain": [
       "232.2"
      ]
     },
     "execution_count": 45,
     "metadata": {},
     "output_type": "execute_result"
    }
   ],
   "source": [
    "k1.sum()"
   ]
  },
  {
   "cell_type": "code",
   "execution_count": 46,
   "id": "c4032025",
   "metadata": {},
   "outputs": [
    {
     "data": {
      "text/plain": [
       "25.799999999999997"
      ]
     },
     "execution_count": 46,
     "metadata": {},
     "output_type": "execute_result"
    }
   ],
   "source": [
    "k1.mean()"
   ]
  }
 ],
 "metadata": {
  "kernelspec": {
   "display_name": "Python 3 (ipykernel)",
   "language": "python",
   "name": "python3"
  },
  "language_info": {
   "codemirror_mode": {
    "name": "ipython",
    "version": 3
   },
   "file_extension": ".py",
   "mimetype": "text/x-python",
   "name": "python",
   "nbconvert_exporter": "python",
   "pygments_lexer": "ipython3",
   "version": "3.9.7"
  }
 },
 "nbformat": 4,
 "nbformat_minor": 5
}
