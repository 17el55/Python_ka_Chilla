{
 "cells": [
  {
   "cell_type": "markdown",
   "id": "d41f7d10",
   "metadata": {},
   "source": [
    "# - Indexing"
   ]
  },
  {
   "cell_type": "code",
   "execution_count": null,
   "id": "8462ff89",
   "metadata": {
    "scrolled": true
   },
   "outputs": [],
   "source": [
    "b= \"Dark web\"\n",
    "b"
   ]
  },
  {
   "cell_type": "markdown",
   "id": "dae6a44a",
   "metadata": {},
   "source": [
    "## to find the length of string\n"
   ]
  },
  {
   "cell_type": "code",
   "execution_count": null,
   "id": "86202990",
   "metadata": {
    "scrolled": true
   },
   "outputs": [],
   "source": [
    "len(b)"
   ]
  },
  {
   "cell_type": "code",
   "execution_count": null,
   "id": "25003ce1",
   "metadata": {
    "scrolled": true
   },
   "outputs": [],
   "source": [
    "b[5]                         # to check the index to string means on which position which character is present"
   ]
  },
  {
   "cell_type": "code",
   "execution_count": null,
   "id": "07e0712f",
   "metadata": {},
   "outputs": [],
   "source": [
    "b[2:5]    # here last index is excluded"
   ]
  },
  {
   "cell_type": "markdown",
   "id": "cfdc068a",
   "metadata": {},
   "source": [
    "# String Method"
   ]
  },
  {
   "cell_type": "code",
   "execution_count": null,
   "id": "08a56211",
   "metadata": {},
   "outputs": [],
   "source": [
    "gun=\"rifle\"\n",
    "gun\n"
   ]
  },
  {
   "cell_type": "code",
   "execution_count": null,
   "id": "c0f8e275",
   "metadata": {},
   "outputs": [],
   "source": [
    "len(gun)"
   ]
  },
  {
   "cell_type": "code",
   "execution_count": null,
   "id": "c74d62e6",
   "metadata": {
    "scrolled": false
   },
   "outputs": [],
   "source": [
    "gun.capitalize()          # after writing the variable press tab button to see the function\n",
    "                                    # here it is capitalize\n"
   ]
  },
  {
   "cell_type": "code",
   "execution_count": null,
   "id": "5a3e2e06",
   "metadata": {},
   "outputs": [],
   "source": [
    "gun.lower()    # to converter the letter into lower case"
   ]
  },
  {
   "cell_type": "code",
   "execution_count": null,
   "id": "058af1fc",
   "metadata": {
    "scrolled": true
   },
   "outputs": [],
   "source": [
    "gun.upper()       # to converter thye letter into upper case"
   ]
  },
  {
   "cell_type": "code",
   "execution_count": null,
   "id": "2193abba",
   "metadata": {
    "scrolled": true
   },
   "outputs": [],
   "source": [
    "gun.replace(\"rifl\", \"rafil\")               # here i replace the letters "
   ]
  },
  {
   "cell_type": "markdown",
   "id": "fd356eeb",
   "metadata": {},
   "source": [
    "# counting specific alphabet in string"
   ]
  },
  {
   "cell_type": "code",
   "execution_count": 1,
   "id": "64a946b6",
   "metadata": {
    "scrolled": true
   },
   "outputs": [
    {
     "data": {
      "text/plain": [
       "'katherine_allen'"
      ]
     },
     "execution_count": 1,
     "metadata": {},
     "output_type": "execute_result"
    }
   ],
   "source": [
    "name=\"katherine_allen\"\n",
    "name\n"
   ]
  },
  {
   "cell_type": "code",
   "execution_count": 2,
   "id": "32d87133",
   "metadata": {
    "scrolled": true
   },
   "outputs": [
    {
     "data": {
      "text/plain": [
       "3"
      ]
     },
     "execution_count": 2,
     "metadata": {},
     "output_type": "execute_result"
    }
   ],
   "source": [
    "name.count(\"e\")"
   ]
  },
  {
   "cell_type": "markdown",
   "id": "251c9443",
   "metadata": {},
   "source": [
    "# To find the index of string"
   ]
  },
  {
   "cell_type": "code",
   "execution_count": null,
   "id": "001ac078",
   "metadata": {
    "scrolled": true
   },
   "outputs": [],
   "source": [
    "name=\"katherine_allen\"\n",
    "name\n",
    "\n"
   ]
  },
  {
   "cell_type": "code",
   "execution_count": null,
   "id": "6608867f",
   "metadata": {
    "scrolled": true
   },
   "outputs": [],
   "source": [
    "name.find(\"_a\")"
   ]
  },
  {
   "cell_type": "markdown",
   "id": "ca1085db",
   "metadata": {},
   "source": [
    "# to Split the string"
   ]
  },
  {
   "cell_type": "code",
   "execution_count": null,
   "id": "91061e03",
   "metadata": {},
   "outputs": [],
   "source": [
    "guns=\"i like rifles, snipers, rocket, launchers, anti mine vehicles, hummves\""
   ]
  },
  {
   "cell_type": "code",
   "execution_count": null,
   "id": "71e7e547",
   "metadata": {
    "scrolled": true
   },
   "outputs": [],
   "source": [
    "gun.split(\"i\")"
   ]
  },
  {
   "cell_type": "markdown",
   "id": "836e640e",
   "metadata": {},
   "source": [
    "# Basic Data structure in python\n",
    "\n",
    "\n",
    "# 1. Tuple\n",
    "\n",
    "# 2. List\n",
    "\n",
    "# 3. Dictionaries\n",
    "\n",
    "# 4. Set\n",
    "\n"
   ]
  },
  {
   "cell_type": "markdown",
   "id": "11ffa363",
   "metadata": {},
   "source": [
    "# 1- Tuple\n",
    " \n",
    " ### . Ordered collection of elements\n",
    " ### . Enclosed in braces ( ) / paraenthesis\n",
    " ### . Different kind of elements can be stored\n",
    " ### . once elements are stored can not be changed."
   ]
  },
  {
   "cell_type": "code",
   "execution_count": null,
   "id": "a07bdc07",
   "metadata": {},
   "outputs": [],
   "source": [
    "tup1=(120,\"guns\", 12.5, False)\n",
    "tup1"
   ]
  },
  {
   "cell_type": "code",
   "execution_count": null,
   "id": "1e1b2804",
   "metadata": {
    "scrolled": true
   },
   "outputs": [],
   "source": [
    "# types of tuple\n",
    "type(tup1)"
   ]
  },
  {
   "cell_type": "code",
   "execution_count": null,
   "id": "a65ee592",
   "metadata": {},
   "outputs": [],
   "source": [
    "tup1[1]  #in dexing in the tuple\n"
   ]
  },
  {
   "cell_type": "code",
   "execution_count": null,
   "id": "f639405f",
   "metadata": {},
   "outputs": [],
   "source": [
    "tup1[0:1]    # last index is excluded"
   ]
  },
  {
   "cell_type": "code",
   "execution_count": null,
   "id": "b4989708",
   "metadata": {},
   "outputs": [],
   "source": [
    "# length of elements\n",
    "len(tup1)"
   ]
  },
  {
   "cell_type": "code",
   "execution_count": null,
   "id": "1ea68d4b",
   "metadata": {},
   "outputs": [],
   "source": [
    "tup2= [100525, \"Hello\",5563.25, True]\n",
    "tup2"
   ]
  },
  {
   "cell_type": "code",
   "execution_count": null,
   "id": "73d318e0",
   "metadata": {
    "scrolled": true
   },
   "outputs": [],
   "source": [
    "tup3=[10,45.8, \"Bye\"]\n",
    "tup3"
   ]
  },
  {
   "cell_type": "code",
   "execution_count": null,
   "id": "f012cb25",
   "metadata": {
    "scrolled": true
   },
   "outputs": [],
   "source": [
    "tup1+tup3"
   ]
  },
  {
   "cell_type": "code",
   "execution_count": null,
   "id": "f629ff28",
   "metadata": {
    "scrolled": true
   },
   "outputs": [],
   "source": [
    "# Concetenate and repeat\n",
    "tup2*3 +tup3   "
   ]
  },
  {
   "cell_type": "code",
   "execution_count": null,
   "id": "a8d501db",
   "metadata": {},
   "outputs": [],
   "source": [
    "tup6= [111, 22, 1221, 5455, 1241, 111]\n",
    "tup6"
   ]
  },
  {
   "cell_type": "code",
   "execution_count": null,
   "id": "654130eb",
   "metadata": {},
   "outputs": [],
   "source": [
    "#minimum tuple\n",
    "min(tup4)"
   ]
  },
  {
   "cell_type": "code",
   "execution_count": null,
   "id": "05d96f83",
   "metadata": {},
   "outputs": [],
   "source": [
    "max(tup6)"
   ]
  },
  {
   "cell_type": "markdown",
   "id": "e9aef4de",
   "metadata": {},
   "source": [
    "# 1- List\n",
    "\n",
    "\n",
    "### . Ordered collection of elements\n",
    "### . Enclosed in square brackets [ ]\n",
    "### . Different kind of elements can be stored\n",
    "### . elements can be changed"
   ]
  },
  {
   "cell_type": "code",
   "execution_count": null,
   "id": "ef5d8a6b",
   "metadata": {},
   "outputs": [],
   "source": [
    "list1 = [ 1154,110.2, \"rifle\", True ]\n",
    "list1"
   ]
  },
  {
   "cell_type": "code",
   "execution_count": null,
   "id": "a9998998",
   "metadata": {},
   "outputs": [],
   "source": [
    "len(list1)"
   ]
  },
  {
   "cell_type": "code",
   "execution_count": null,
   "id": "92175156",
   "metadata": {},
   "outputs": [],
   "source": [
    "list1[2]"
   ]
  },
  {
   "cell_type": "code",
   "execution_count": null,
   "id": "d7bd3ab2",
   "metadata": {},
   "outputs": [],
   "source": [
    "list2= [9562,110.25, \"HEllo\", True]\n",
    "list2"
   ]
  },
  {
   "cell_type": "code",
   "execution_count": null,
   "id": "8c4f1ff2",
   "metadata": {},
   "outputs": [],
   "source": [
    "list1 + list2"
   ]
  },
  {
   "cell_type": "code",
   "execution_count": null,
   "id": "bf24f767",
   "metadata": {},
   "outputs": [],
   "source": [
    "list1*6 + list2    "
   ]
  },
  {
   "cell_type": "code",
   "execution_count": null,
   "id": "0531e6b4",
   "metadata": {},
   "outputs": [],
   "source": [
    "list2.reverse()      # changing order of elements\n",
    "list2"
   ]
  },
  {
   "cell_type": "code",
   "execution_count": null,
   "id": "8503d22f",
   "metadata": {},
   "outputs": [],
   "source": [
    "list2.append(\"This is my Gun\")\n",
    "list2"
   ]
  },
  {
   "cell_type": "code",
   "execution_count": 10,
   "id": "c1f7c6ce",
   "metadata": {},
   "outputs": [
    {
     "data": {
      "text/plain": [
       "[122, 1252, 1452, 'Alfa', 25214, 1221, 122]"
      ]
     },
     "execution_count": 10,
     "metadata": {},
     "output_type": "execute_result"
    }
   ],
   "source": [
    "list3= [122,1252,1452,\"Alfa\", 25214,1221,122]\n",
    "list3"
   ]
  },
  {
   "cell_type": "code",
   "execution_count": 11,
   "id": "f288ba8c",
   "metadata": {},
   "outputs": [
    {
     "data": {
      "text/plain": [
       "1"
      ]
     },
     "execution_count": 11,
     "metadata": {},
     "output_type": "execute_result"
    }
   ],
   "source": [
    "list3.count(\"Alfa\")"
   ]
  },
  {
   "cell_type": "code",
   "execution_count": 13,
   "id": "72e2372c",
   "metadata": {},
   "outputs": [
    {
     "data": {
      "text/plain": [
       "[11222, 455, 334, 141425, 1122, 12]"
      ]
     },
     "execution_count": 13,
     "metadata": {},
     "output_type": "execute_result"
    }
   ],
   "source": [
    "list5=[11222,455,334,141425,1122,12]\n",
    "list5"
   ]
  },
  {
   "cell_type": "code",
   "execution_count": 14,
   "id": "9c18040a",
   "metadata": {
    "scrolled": true
   },
   "outputs": [
    {
     "data": {
      "text/plain": [
       "[12, 334, 455, 1122, 11222, 141425]"
      ]
     },
     "execution_count": 14,
     "metadata": {},
     "output_type": "execute_result"
    }
   ],
   "source": [
    "# sorting the list \n",
    "list5.sort()\n",
    "list5"
   ]
  },
  {
   "cell_type": "code",
   "execution_count": 16,
   "id": "258e864d",
   "metadata": {},
   "outputs": [
    {
     "data": {
      "text/plain": [
       "[12, 334, 455, 1122, 11222, 141425, 12, 334, 455, 1122, 11222, 141425]"
      ]
     },
     "execution_count": 16,
     "metadata": {},
     "output_type": "execute_result"
    }
   ],
   "source": [
    "list2 + list5"
   ]
  },
  {
   "cell_type": "code",
   "execution_count": 17,
   "id": "bffd76ac",
   "metadata": {},
   "outputs": [
    {
     "data": {
      "text/plain": [
       "[12, 334, 455, 1122, 11222, 141425, 12, 334, 455, 1122, 11222, 141425]"
      ]
     },
     "execution_count": 17,
     "metadata": {},
     "output_type": "execute_result"
    }
   ],
   "source": [
    "lists=list2 +list5\n",
    "lists"
   ]
  },
  {
   "cell_type": "markdown",
   "id": "3df2fb6a",
   "metadata": {},
   "source": [
    "# Dictionaries\n",
    "\n",
    "### . an unordered collection of elements\n",
    "### . Key and Values\n",
    "### . Enclosed in curly brackets {  }\n",
    "### . elements can be changed/ Mutetable"
   ]
  },
  {
   "cell_type": "code",
   "execution_count": 18,
   "id": "98d742aa",
   "metadata": {},
   "outputs": [
    {
     "data": {
      "text/plain": [
       "{'Rifle': 1000, 'Sniper': 15000, 'M416': 1000, 'Ak-47': 2000}"
      ]
     },
     "execution_count": 18,
     "metadata": {},
     "output_type": "execute_result"
    }
   ],
   "source": [
    "#Guns and Bullets\n",
    "guns1= {\"Rifle\":1000, \"Sniper\": 15000, \"M416\": 1000, \"Ak-47\": 2000}\n",
    "guns1"
   ]
  },
  {
   "cell_type": "code",
   "execution_count": 19,
   "id": "08594023",
   "metadata": {},
   "outputs": [
    {
     "data": {
      "text/plain": [
       "dict"
      ]
     },
     "execution_count": 19,
     "metadata": {},
     "output_type": "execute_result"
    }
   ],
   "source": [
    "type(guns1)"
   ]
  },
  {
   "cell_type": "code",
   "execution_count": 24,
   "id": "f2b7fc4e",
   "metadata": {},
   "outputs": [
    {
     "data": {
      "text/plain": [
       "dict_keys(['Rifle', 'Sniper', 'M416', 'Ak-47'])"
      ]
     },
     "execution_count": 24,
     "metadata": {},
     "output_type": "execute_result"
    }
   ],
   "source": [
    "#Extract the data \n",
    "key=guns1.keys()\n",
    "key"
   ]
  },
  {
   "cell_type": "code",
   "execution_count": 25,
   "id": "954ef5cd",
   "metadata": {},
   "outputs": [
    {
     "data": {
      "text/plain": [
       "dict_values([1000, 15000, 1000, 2000])"
      ]
     },
     "execution_count": 25,
     "metadata": {},
     "output_type": "execute_result"
    }
   ],
   "source": [
    "guns1.values()"
   ]
  },
  {
   "cell_type": "code",
   "execution_count": 30,
   "id": "80e1a64f",
   "metadata": {},
   "outputs": [
    {
     "data": {
      "text/plain": [
       "{'Rifle': 1000, 'Sniper': 15000, 'M416': 1000, 'Ak-47': 2000, 'Glock 17': 500}"
      ]
     },
     "execution_count": 30,
     "metadata": {},
     "output_type": "execute_result"
    }
   ],
   "source": [
    "# to add new the elements\n",
    "guns1[\"Glock 17\"]=500\n",
    "guns1\n"
   ]
  },
  {
   "cell_type": "code",
   "execution_count": 38,
   "id": "57184ffd",
   "metadata": {},
   "outputs": [
    {
     "data": {
      "text/plain": [
       "{'Rifle': 1000, 'Sniper': 15000, 'M416': 2500, 'Ak-47': 2000, 'Glock 17': 500}"
      ]
     },
     "execution_count": 38,
     "metadata": {},
     "output_type": "execute_result"
    }
   ],
   "source": [
    "# to update the elements values\n",
    "guns1[\"M416\"]= 2500\n",
    "guns1"
   ]
  },
  {
   "cell_type": "code",
   "execution_count": 42,
   "id": "e18caeb0",
   "metadata": {},
   "outputs": [
    {
     "data": {
      "text/plain": [
       "{'Desert Eagle': 3000, 'Mp7': 4000, 'Knife': 200}"
      ]
     },
     "execution_count": 42,
     "metadata": {},
     "output_type": "execute_result"
    }
   ],
   "source": [
    "guns2={\"Desert Eagle\": 3000, \"Mp7\": 4000, \"Knife\": 200}\n",
    "guns2"
   ]
  },
  {
   "cell_type": "code",
   "execution_count": 45,
   "id": "3abd1c7d",
   "metadata": {},
   "outputs": [
    {
     "data": {
      "text/plain": [
       "{'Rifle': 1000,\n",
       " 'Sniper': 15000,\n",
       " 'M416': 2500,\n",
       " 'Ak-47': 2000,\n",
       " 'Glock 17': 500,\n",
       " 'Desert Eagle': 3000,\n",
       " 'Mp7': 4000,\n",
       " 'Knife': 200}"
      ]
     },
     "execution_count": 45,
     "metadata": {},
     "output_type": "execute_result"
    }
   ],
   "source": [
    "# to concatinate or add\n",
    "guns1.update(guns2)\n",
    "guns1"
   ]
  },
  {
   "cell_type": "markdown",
   "id": "fe938080",
   "metadata": {},
   "source": [
    "# Set\n",
    "\n",
    "### . unordered and unindexed\n",
    "### . curly brackets are used { }\n",
    "### . no duplicates allowed"
   ]
  },
  {
   "cell_type": "code",
   "execution_count": 46,
   "id": "ca1daef6",
   "metadata": {},
   "outputs": [
    {
     "data": {
      "text/plain": [
       "{12, 2554, 365.74, 'Dark Web', True}"
      ]
     },
     "execution_count": 46,
     "metadata": {},
     "output_type": "execute_result"
    }
   ],
   "source": [
    "set1={\"Dark Web\", 12, 365.74, True,2554}\n",
    "set1"
   ]
  },
  {
   "cell_type": "code",
   "execution_count": 47,
   "id": "0730244d",
   "metadata": {},
   "outputs": [
    {
     "data": {
      "text/plain": [
       "{221, 554.6, 'Crypto', 'Red room'}"
      ]
     },
     "execution_count": 47,
     "metadata": {},
     "output_type": "execute_result"
    }
   ],
   "source": [
    "set2={221,554.6, \"Red room\", \"Crypto\"}\n",
    "set2"
   ]
  },
  {
   "cell_type": "code",
   "execution_count": 49,
   "id": "f8eb7623",
   "metadata": {},
   "outputs": [
    {
     "data": {
      "text/plain": [
       "{' tails OS', 12, 2554, 365.74, 'Dark Web', True}"
      ]
     },
     "execution_count": 49,
     "metadata": {},
     "output_type": "execute_result"
    }
   ],
   "source": [
    "set1.add(\" tails OS\")\n",
    "set1"
   ]
  },
  {
   "cell_type": "code",
   "execution_count": 62,
   "id": "6bdc77c5",
   "metadata": {},
   "outputs": [
    {
     "data": {
      "text/plain": [
       "{' tails OS', 12, 2554, 365.74, 'Dark Web', True}"
      ]
     },
     "execution_count": 62,
     "metadata": {},
     "output_type": "execute_result"
    }
   ],
   "source": [
    "set1.add(\" tails OS\")\n",
    "set1"
   ]
  },
  {
   "cell_type": "code",
   "execution_count": 63,
   "id": "1afb6c9a",
   "metadata": {},
   "outputs": [
    {
     "data": {
      "text/plain": [
       "{' tails OS', 2554, 365.74, 'Dark Web', True}"
      ]
     },
     "execution_count": 63,
     "metadata": {},
     "output_type": "execute_result"
    }
   ],
   "source": [
    "set1.remove(12)\n",
    "set1"
   ]
  }
 ],
 "metadata": {
  "kernelspec": {
   "display_name": "Python 3 (ipykernel)",
   "language": "python",
   "name": "python3"
  },
  "language_info": {
   "codemirror_mode": {
    "name": "ipython",
    "version": 3
   },
   "file_extension": ".py",
   "mimetype": "text/x-python",
   "name": "python",
   "nbconvert_exporter": "python",
   "pygments_lexer": "ipython3",
   "version": "3.9.7"
  }
 },
 "nbformat": 4,
 "nbformat_minor": 5
}
